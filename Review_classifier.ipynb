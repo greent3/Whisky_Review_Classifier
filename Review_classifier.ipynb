{
 "cells": [
  {
   "cell_type": "markdown",
   "id": "76be1c84",
   "metadata": {},
   "source": [
    "# We need to classify Japanese Whisky reviews as POSITIVE or NEGATIVE "
   ]
  },
  {
   "cell_type": "markdown",
   "id": "340b16bf",
   "metadata": {},
   "source": [
    "The only problem is.. we have 1100 reviews! UGH! Perhaps we can label the first 200 reviews and pass the rest of the work off to a Naive Bayes classifier.\n",
    "\n",
    "To start, I labeled the first 200 reviews as positive or negative and will use those to train our Naive Bayes TF-IDF model. Then I'll evaluate the model on the training dataset using a confusion matrix. Finally, I'll use the model to classify the remaining 900 reviews.\n",
    "\n",
    "Note: During the first iteration of this algorithm, I didn't use custom sentiment words (i.e. I simply removed the punctuation and stopwords and classified reviews using TFIDF on all remaining words). This resulted in ALL of the first 200 reviews being classified as POSITIVE. This is likely due to the fact that our training dataset is so small. To correct this, I added some custom sentiment words for the TFIDF Naive Bayes algorithm to focus on."
   ]
  },
  {
   "cell_type": "markdown",
   "id": "9dce7fde",
   "metadata": {},
   "source": [
    "# Let's get familiar with our data"
   ]
  },
  {
   "cell_type": "code",
   "execution_count": 1,
   "id": "cd422432",
   "metadata": {},
   "outputs": [],
   "source": [
    "import pandas as pd\n",
    "import numpy as np"
   ]
  },
  {
   "cell_type": "code",
   "execution_count": 2,
   "id": "8cac6cf8",
   "metadata": {},
   "outputs": [],
   "source": [
    "df = pd.read_csv('./archive/labeled_japanese_whisky.csv')"
   ]
  },
  {
   "cell_type": "code",
   "execution_count": 3,
   "id": "991fefa4",
   "metadata": {},
   "outputs": [
    {
     "data": {
      "text/html": [
       "<div>\n",
       "<style scoped>\n",
       "    .dataframe tbody tr th:only-of-type {\n",
       "        vertical-align: middle;\n",
       "    }\n",
       "\n",
       "    .dataframe tbody tr th {\n",
       "        vertical-align: top;\n",
       "    }\n",
       "\n",
       "    .dataframe thead th {\n",
       "        text-align: right;\n",
       "    }\n",
       "</style>\n",
       "<table border=\"1\" class=\"dataframe\">\n",
       "  <thead>\n",
       "    <tr style=\"text-align: right;\">\n",
       "      <th></th>\n",
       "      <th>ID</th>\n",
       "      <th>Bottle_name</th>\n",
       "      <th>Brand</th>\n",
       "      <th>Title</th>\n",
       "      <th>DESC</th>\n",
       "      <th>Label</th>\n",
       "    </tr>\n",
       "  </thead>\n",
       "  <tbody>\n",
       "    <tr>\n",
       "      <th>0</th>\n",
       "      <td>1</td>\n",
       "      <td>The Yamazaki Single Malt Whisky - Distiller’s ...</td>\n",
       "      <td>Yamazaki</td>\n",
       "      <td>Overpriced dissapointment</td>\n",
       "      <td>dull taste  high price  no finish  over-hyped ...</td>\n",
       "      <td>1.0</td>\n",
       "    </tr>\n",
       "    <tr>\n",
       "      <th>1</th>\n",
       "      <td>2</td>\n",
       "      <td>The Yamazaki Single Malt Whisky - Distiller’s ...</td>\n",
       "      <td>Yamazaki</td>\n",
       "      <td>Delicious</td>\n",
       "      <td>delicious   sugared red fruits and sweet with ...</td>\n",
       "      <td>2.0</td>\n",
       "    </tr>\n",
       "    <tr>\n",
       "      <th>2</th>\n",
       "      <td>3</td>\n",
       "      <td>The Yamazaki Single Malt Whisky - Distiller’s ...</td>\n",
       "      <td>Yamazaki</td>\n",
       "      <td>Good for beginners. i know cos i am a beginner</td>\n",
       "      <td>i am not a whisky expert but i really love the...</td>\n",
       "      <td>2.0</td>\n",
       "    </tr>\n",
       "    <tr>\n",
       "      <th>3</th>\n",
       "      <td>4</td>\n",
       "      <td>The Yamazaki Single Malt Whisky - Distiller’s ...</td>\n",
       "      <td>Yamazaki</td>\n",
       "      <td>Yamazaki Tutorial</td>\n",
       "      <td>this is a terrible yamazaki   very young, unsh...</td>\n",
       "      <td>1.0</td>\n",
       "    </tr>\n",
       "    <tr>\n",
       "      <th>4</th>\n",
       "      <td>5</td>\n",
       "      <td>The Yamazaki Single Malt Whisky - Distiller’s ...</td>\n",
       "      <td>Yamazaki</td>\n",
       "      <td>Very Nice</td>\n",
       "      <td>first time and i like it - fresh but not thin ...</td>\n",
       "      <td>2.0</td>\n",
       "    </tr>\n",
       "  </tbody>\n",
       "</table>\n",
       "</div>"
      ],
      "text/plain": [
       "   ID                                        Bottle_name     Brand  \\\n",
       "0   1  The Yamazaki Single Malt Whisky - Distiller’s ...  Yamazaki   \n",
       "1   2  The Yamazaki Single Malt Whisky - Distiller’s ...  Yamazaki   \n",
       "2   3  The Yamazaki Single Malt Whisky - Distiller’s ...  Yamazaki   \n",
       "3   4  The Yamazaki Single Malt Whisky - Distiller’s ...  Yamazaki   \n",
       "4   5  The Yamazaki Single Malt Whisky - Distiller’s ...  Yamazaki   \n",
       "\n",
       "                                            Title  \\\n",
       "0                       Overpriced dissapointment   \n",
       "1                                       Delicious   \n",
       "2  Good for beginners. i know cos i am a beginner   \n",
       "3                               Yamazaki Tutorial   \n",
       "4                                       Very Nice   \n",
       "\n",
       "                                                DESC  Label  \n",
       "0  dull taste  high price  no finish  over-hyped ...    1.0  \n",
       "1  delicious   sugared red fruits and sweet with ...    2.0  \n",
       "2  i am not a whisky expert but i really love the...    2.0  \n",
       "3  this is a terrible yamazaki   very young, unsh...    1.0  \n",
       "4  first time and i like it - fresh but not thin ...    2.0  "
      ]
     },
     "execution_count": 3,
     "metadata": {},
     "output_type": "execute_result"
    }
   ],
   "source": [
    "df.head()"
   ]
  },
  {
   "cell_type": "code",
   "execution_count": 4,
   "id": "ce67ae11",
   "metadata": {},
   "outputs": [
    {
     "data": {
      "text/html": [
       "<div>\n",
       "<style scoped>\n",
       "    .dataframe tbody tr th:only-of-type {\n",
       "        vertical-align: middle;\n",
       "    }\n",
       "\n",
       "    .dataframe tbody tr th {\n",
       "        vertical-align: top;\n",
       "    }\n",
       "\n",
       "    .dataframe thead th {\n",
       "        text-align: right;\n",
       "    }\n",
       "</style>\n",
       "<table border=\"1\" class=\"dataframe\">\n",
       "  <thead>\n",
       "    <tr style=\"text-align: right;\">\n",
       "      <th></th>\n",
       "      <th>ID</th>\n",
       "      <th>Bottle_name</th>\n",
       "      <th>Brand</th>\n",
       "      <th>Title</th>\n",
       "      <th>DESC</th>\n",
       "      <th>Label</th>\n",
       "    </tr>\n",
       "  </thead>\n",
       "  <tbody>\n",
       "    <tr>\n",
       "      <th>1117</th>\n",
       "      <td>1126</td>\n",
       "      <td>Nikka 1995 Single Cask Coffey Grain</td>\n",
       "      <td>Nikka</td>\n",
       "      <td>Great whisky</td>\n",
       "      <td>really enjoyed the flavour of this whisky    g...</td>\n",
       "      <td>NaN</td>\n",
       "    </tr>\n",
       "    <tr>\n",
       "      <th>1118</th>\n",
       "      <td>1127</td>\n",
       "      <td>Nikka 1995 Single Cask Coffey Grain</td>\n",
       "      <td>Nikka</td>\n",
       "      <td>Phenomenal.</td>\n",
       "      <td>given the slightly racist tone to the guy at t...</td>\n",
       "      <td>NaN</td>\n",
       "    </tr>\n",
       "    <tr>\n",
       "      <th>1119</th>\n",
       "      <td>1128</td>\n",
       "      <td>Nikka 1995 Single Cask Coffey Grain</td>\n",
       "      <td>Nikka</td>\n",
       "      <td>Great.</td>\n",
       "      <td>the particular distillation process makes this...</td>\n",
       "      <td>NaN</td>\n",
       "    </tr>\n",
       "    <tr>\n",
       "      <th>1120</th>\n",
       "      <td>1129</td>\n",
       "      <td>Nikka 1995 Single Cask Coffey Grain</td>\n",
       "      <td>Nikka</td>\n",
       "      <td>It s whisky, not wine</td>\n",
       "      <td>that s probably why the previous poster though...</td>\n",
       "      <td>NaN</td>\n",
       "    </tr>\n",
       "    <tr>\n",
       "      <th>1121</th>\n",
       "      <td>1130</td>\n",
       "      <td>Nikka 1995 Single Cask Coffey Grain</td>\n",
       "      <td>Nikka</td>\n",
       "      <td>Japs dont know anything about making wine</td>\n",
       "      <td>its like buying a bottle of grey goose thinkin...</td>\n",
       "      <td>NaN</td>\n",
       "    </tr>\n",
       "  </tbody>\n",
       "</table>\n",
       "</div>"
      ],
      "text/plain": [
       "        ID                          Bottle_name  Brand  \\\n",
       "1117  1126  Nikka 1995 Single Cask Coffey Grain  Nikka   \n",
       "1118  1127  Nikka 1995 Single Cask Coffey Grain  Nikka   \n",
       "1119  1128  Nikka 1995 Single Cask Coffey Grain  Nikka   \n",
       "1120  1129  Nikka 1995 Single Cask Coffey Grain  Nikka   \n",
       "1121  1130  Nikka 1995 Single Cask Coffey Grain  Nikka   \n",
       "\n",
       "                                          Title  \\\n",
       "1117                               Great whisky   \n",
       "1118                               Phenomenal.    \n",
       "1119                                     Great.   \n",
       "1120                      It s whisky, not wine   \n",
       "1121  Japs dont know anything about making wine   \n",
       "\n",
       "                                                   DESC  Label  \n",
       "1117  really enjoyed the flavour of this whisky    g...    NaN  \n",
       "1118  given the slightly racist tone to the guy at t...    NaN  \n",
       "1119  the particular distillation process makes this...    NaN  \n",
       "1120  that s probably why the previous poster though...    NaN  \n",
       "1121  its like buying a bottle of grey goose thinkin...    NaN  "
      ]
     },
     "execution_count": 4,
     "metadata": {},
     "output_type": "execute_result"
    }
   ],
   "source": [
    "df.tail()"
   ]
  },
  {
   "cell_type": "code",
   "execution_count": 5,
   "id": "4e8d0a10",
   "metadata": {},
   "outputs": [
    {
     "name": "stdout",
     "output_type": "stream",
     "text": [
      "ID               int64\n",
      "Bottle_name     object\n",
      "Brand           object\n",
      "Title           object\n",
      "DESC            object\n",
      "Label          float64\n",
      "dtype: object\n"
     ]
    }
   ],
   "source": [
    "print(df.dtypes)"
   ]
  },
  {
   "cell_type": "markdown",
   "id": "17ca5127",
   "metadata": {},
   "source": [
    "## Clean our data"
   ]
  },
  {
   "cell_type": "code",
   "execution_count": 6,
   "id": "7f9c0ab4",
   "metadata": {},
   "outputs": [],
   "source": [
    "last_labeled_index = 200 # how many labeled reviews we have"
   ]
  },
  {
   "cell_type": "code",
   "execution_count": 7,
   "id": "b165d05a",
   "metadata": {},
   "outputs": [
    {
     "name": "stdout",
     "output_type": "stream",
     "text": [
      "0       False\n",
      "1       False\n",
      "2       False\n",
      "3       False\n",
      "4       False\n",
      "        ...  \n",
      "1117    False\n",
      "1118    False\n",
      "1119    False\n",
      "1120    False\n",
      "1121    False\n",
      "Length: 1122, dtype: bool\n"
     ]
    }
   ],
   "source": [
    "duplicates = df.duplicated(subset=['DESC'])\n",
    "print(duplicates)"
   ]
  },
  {
   "cell_type": "code",
   "execution_count": 8,
   "id": "050f6a72",
   "metadata": {},
   "outputs": [],
   "source": [
    "list_of_duplicates = list(duplicates)"
   ]
  },
  {
   "cell_type": "code",
   "execution_count": 9,
   "id": "0bae1473",
   "metadata": {},
   "outputs": [
    {
     "name": "stdout",
     "output_type": "stream",
     "text": [
      "[186, 296, 309, 314, 327, 331, 337, 509, 556, 559, 1012, 1031]\n"
     ]
    }
   ],
   "source": [
    "duplicate_rows = []\n",
    "for i in range(len(list_of_duplicates)):\n",
    "    if list_of_duplicates[i] is True:\n",
    "        duplicate_rows.append(i)\n",
    "print(duplicate_rows)"
   ]
  },
  {
   "cell_type": "markdown",
   "id": "de74f47f",
   "metadata": {},
   "source": [
    "Drop duplicate rows from our dataframe"
   ]
  },
  {
   "cell_type": "code",
   "execution_count": 10,
   "id": "2289c501",
   "metadata": {},
   "outputs": [
    {
     "data": {
      "text/plain": [
       "(1122, 6)"
      ]
     },
     "execution_count": 10,
     "metadata": {},
     "output_type": "execute_result"
    }
   ],
   "source": [
    "df.shape"
   ]
  },
  {
   "cell_type": "code",
   "execution_count": 11,
   "id": "7fc77123",
   "metadata": {},
   "outputs": [
    {
     "data": {
      "text/plain": [
       "(1110, 6)"
      ]
     },
     "execution_count": 11,
     "metadata": {},
     "output_type": "execute_result"
    }
   ],
   "source": [
    "df = df.drop(duplicate_rows)\n",
    "df.reset_index(drop=True, inplace=True)\n",
    "df.shape"
   ]
  },
  {
   "cell_type": "markdown",
   "id": "6d038e7e",
   "metadata": {},
   "source": [
    "Convert labels to integer format"
   ]
  },
  {
   "cell_type": "code",
   "execution_count": 12,
   "id": "d710b9dc",
   "metadata": {},
   "outputs": [
    {
     "data": {
      "text/html": [
       "<div>\n",
       "<style scoped>\n",
       "    .dataframe tbody tr th:only-of-type {\n",
       "        vertical-align: middle;\n",
       "    }\n",
       "\n",
       "    .dataframe tbody tr th {\n",
       "        vertical-align: top;\n",
       "    }\n",
       "\n",
       "    .dataframe thead th {\n",
       "        text-align: right;\n",
       "    }\n",
       "</style>\n",
       "<table border=\"1\" class=\"dataframe\">\n",
       "  <thead>\n",
       "    <tr style=\"text-align: right;\">\n",
       "      <th></th>\n",
       "      <th>ID</th>\n",
       "      <th>Bottle_name</th>\n",
       "      <th>Brand</th>\n",
       "      <th>Title</th>\n",
       "      <th>DESC</th>\n",
       "      <th>Label</th>\n",
       "    </tr>\n",
       "  </thead>\n",
       "  <tbody>\n",
       "    <tr>\n",
       "      <th>0</th>\n",
       "      <td>1</td>\n",
       "      <td>The Yamazaki Single Malt Whisky - Distiller’s ...</td>\n",
       "      <td>Yamazaki</td>\n",
       "      <td>Overpriced dissapointment</td>\n",
       "      <td>dull taste  high price  no finish  over-hyped ...</td>\n",
       "      <td>1</td>\n",
       "    </tr>\n",
       "    <tr>\n",
       "      <th>1</th>\n",
       "      <td>2</td>\n",
       "      <td>The Yamazaki Single Malt Whisky - Distiller’s ...</td>\n",
       "      <td>Yamazaki</td>\n",
       "      <td>Delicious</td>\n",
       "      <td>delicious   sugared red fruits and sweet with ...</td>\n",
       "      <td>2</td>\n",
       "    </tr>\n",
       "    <tr>\n",
       "      <th>2</th>\n",
       "      <td>3</td>\n",
       "      <td>The Yamazaki Single Malt Whisky - Distiller’s ...</td>\n",
       "      <td>Yamazaki</td>\n",
       "      <td>Good for beginners. i know cos i am a beginner</td>\n",
       "      <td>i am not a whisky expert but i really love the...</td>\n",
       "      <td>2</td>\n",
       "    </tr>\n",
       "    <tr>\n",
       "      <th>3</th>\n",
       "      <td>4</td>\n",
       "      <td>The Yamazaki Single Malt Whisky - Distiller’s ...</td>\n",
       "      <td>Yamazaki</td>\n",
       "      <td>Yamazaki Tutorial</td>\n",
       "      <td>this is a terrible yamazaki   very young, unsh...</td>\n",
       "      <td>1</td>\n",
       "    </tr>\n",
       "    <tr>\n",
       "      <th>4</th>\n",
       "      <td>5</td>\n",
       "      <td>The Yamazaki Single Malt Whisky - Distiller’s ...</td>\n",
       "      <td>Yamazaki</td>\n",
       "      <td>Very Nice</td>\n",
       "      <td>first time and i like it - fresh but not thin ...</td>\n",
       "      <td>2</td>\n",
       "    </tr>\n",
       "  </tbody>\n",
       "</table>\n",
       "</div>"
      ],
      "text/plain": [
       "   ID                                        Bottle_name     Brand  \\\n",
       "0   1  The Yamazaki Single Malt Whisky - Distiller’s ...  Yamazaki   \n",
       "1   2  The Yamazaki Single Malt Whisky - Distiller’s ...  Yamazaki   \n",
       "2   3  The Yamazaki Single Malt Whisky - Distiller’s ...  Yamazaki   \n",
       "3   4  The Yamazaki Single Malt Whisky - Distiller’s ...  Yamazaki   \n",
       "4   5  The Yamazaki Single Malt Whisky - Distiller’s ...  Yamazaki   \n",
       "\n",
       "                                            Title  \\\n",
       "0                       Overpriced dissapointment   \n",
       "1                                       Delicious   \n",
       "2  Good for beginners. i know cos i am a beginner   \n",
       "3                               Yamazaki Tutorial   \n",
       "4                                       Very Nice   \n",
       "\n",
       "                                                DESC  Label  \n",
       "0  dull taste  high price  no finish  over-hyped ...      1  \n",
       "1  delicious   sugared red fruits and sweet with ...      2  \n",
       "2  i am not a whisky expert but i really love the...      2  \n",
       "3  this is a terrible yamazaki   very young, unsh...      1  \n",
       "4  first time and i like it - fresh but not thin ...      2  "
      ]
     },
     "execution_count": 12,
     "metadata": {},
     "output_type": "execute_result"
    }
   ],
   "source": [
    "df['Label'] = df['Label'].fillna(0).astype(int)\n",
    "df.head()"
   ]
  },
  {
   "cell_type": "markdown",
   "id": "93abbdc5",
   "metadata": {},
   "source": [
    "Remove punctuation and irrelevant words from our data"
   ]
  },
  {
   "cell_type": "code",
   "execution_count": 13,
   "id": "fb94ec8b",
   "metadata": {},
   "outputs": [],
   "source": [
    "sentiment_word_arr = ['nice', 'delicious', 'great', 'amazing', 'amazingly', 'yummy', \n",
    "                   'good', 'wow', 'enjoy', 'enjoyed', 'enjoyable', 'excellent', \n",
    "                   'brilliant', 'love', 'like', 'loved', 'liked', 'best', 'pleased',\n",
    "                   'nasty', 'gross', 'ripoff', 'rip-off', 'terrible', 'disgusting', \n",
    "                   'disappointing', 'disappointment', 'disappointed', 'worst', 'dull', \n",
    "                   'overpriced', 'unworthy', 'hype', 'expensive', 'flavorful', 'smooth', \n",
    "                   'cheap', 'awful', 'waste']"
   ]
  },
  {
   "cell_type": "code",
   "execution_count": 14,
   "id": "ae94f747",
   "metadata": {},
   "outputs": [],
   "source": [
    "import string\n",
    "def clean_text(description):\n",
    "    valid_chars = [char for char in description if char not in string.punctuation]\n",
    "    new_desc = ''.join(valid_chars)\n",
    "    return [word.lower() for word in new_desc.split() if word.lower() in sentiment_word_arr]"
   ]
  },
  {
   "cell_type": "markdown",
   "id": "f9e5237f",
   "metadata": {},
   "source": [
    "We'll combine the words from our review title and review description so we have more data to train our model with"
   ]
  },
  {
   "cell_type": "code",
   "execution_count": 15,
   "id": "49d36d38",
   "metadata": {},
   "outputs": [
    {
     "data": {
      "text/plain": [
       "0                       [overpriced, dull, disappointing]\n",
       "1                                  [delicious, delicious]\n",
       "2       [good, love, like, enjoyed, expensive, enjoyable]\n",
       "3       [terrible, good, excellent, good, overpriced, ...\n",
       "4                                      [nice, like, like]\n",
       "                              ...                        \n",
       "1105                              [great, enjoyed, great]\n",
       "1106                                                   []\n",
       "1107                                       [great, great]\n",
       "1108                                                   []\n",
       "1109                                         [like, like]\n",
       "Length: 1110, dtype: object"
      ]
     },
     "execution_count": 15,
     "metadata": {},
     "output_type": "execute_result"
    }
   ],
   "source": [
    "data_for_cv = df.iloc[:,3].apply(clean_text) + df.iloc[:,4].apply(clean_text) #cv is our count vectorizer\n",
    "data_for_cv"
   ]
  },
  {
   "cell_type": "markdown",
   "id": "92cf79df",
   "metadata": {},
   "source": [
    "Let's add the sentiment words to our dataframe so we can do cool stuff with them in SQL"
   ]
  },
  {
   "cell_type": "code",
   "execution_count": 16,
   "id": "0203aa3c",
   "metadata": {},
   "outputs": [
    {
     "data": {
      "text/html": [
       "<div>\n",
       "<style scoped>\n",
       "    .dataframe tbody tr th:only-of-type {\n",
       "        vertical-align: middle;\n",
       "    }\n",
       "\n",
       "    .dataframe tbody tr th {\n",
       "        vertical-align: top;\n",
       "    }\n",
       "\n",
       "    .dataframe thead th {\n",
       "        text-align: right;\n",
       "    }\n",
       "</style>\n",
       "<table border=\"1\" class=\"dataframe\">\n",
       "  <thead>\n",
       "    <tr style=\"text-align: right;\">\n",
       "      <th></th>\n",
       "      <th>Sentiment_Words</th>\n",
       "    </tr>\n",
       "  </thead>\n",
       "  <tbody>\n",
       "    <tr>\n",
       "      <th>0</th>\n",
       "      <td>overpriced dull disappointing</td>\n",
       "    </tr>\n",
       "    <tr>\n",
       "      <th>1</th>\n",
       "      <td>delicious delicious</td>\n",
       "    </tr>\n",
       "    <tr>\n",
       "      <th>2</th>\n",
       "      <td>good love like enjoyed expensive enjoyable</td>\n",
       "    </tr>\n",
       "    <tr>\n",
       "      <th>3</th>\n",
       "      <td>terrible good excellent good overpriced great</td>\n",
       "    </tr>\n",
       "    <tr>\n",
       "      <th>4</th>\n",
       "      <td>nice like like</td>\n",
       "    </tr>\n",
       "    <tr>\n",
       "      <th>...</th>\n",
       "      <td>...</td>\n",
       "    </tr>\n",
       "    <tr>\n",
       "      <th>1105</th>\n",
       "      <td>great enjoyed great</td>\n",
       "    </tr>\n",
       "    <tr>\n",
       "      <th>1106</th>\n",
       "      <td></td>\n",
       "    </tr>\n",
       "    <tr>\n",
       "      <th>1107</th>\n",
       "      <td>great great</td>\n",
       "    </tr>\n",
       "    <tr>\n",
       "      <th>1108</th>\n",
       "      <td></td>\n",
       "    </tr>\n",
       "    <tr>\n",
       "      <th>1109</th>\n",
       "      <td>like like</td>\n",
       "    </tr>\n",
       "  </tbody>\n",
       "</table>\n",
       "<p>1110 rows × 1 columns</p>\n",
       "</div>"
      ],
      "text/plain": [
       "                                    Sentiment_Words\n",
       "0                     overpriced dull disappointing\n",
       "1                               delicious delicious\n",
       "2        good love like enjoyed expensive enjoyable\n",
       "3     terrible good excellent good overpriced great\n",
       "4                                    nice like like\n",
       "...                                             ...\n",
       "1105                            great enjoyed great\n",
       "1106                                               \n",
       "1107                                    great great\n",
       "1108                                               \n",
       "1109                                      like like\n",
       "\n",
       "[1110 rows x 1 columns]"
      ]
     },
     "execution_count": 16,
     "metadata": {},
     "output_type": "execute_result"
    }
   ],
   "source": [
    "df2 = pd.DataFrame(columns=['Sentiment_Words'])\n",
    "for i in range(0, df.shape[0]): \n",
    "    df2 = df2.append({'Sentiment_Words' : ' '.join(data_for_cv[i])}, ignore_index=True)\n",
    "df2"
   ]
  },
  {
   "cell_type": "code",
   "execution_count": 17,
   "id": "71615990",
   "metadata": {},
   "outputs": [
    {
     "data": {
      "text/html": [
       "<div>\n",
       "<style scoped>\n",
       "    .dataframe tbody tr th:only-of-type {\n",
       "        vertical-align: middle;\n",
       "    }\n",
       "\n",
       "    .dataframe tbody tr th {\n",
       "        vertical-align: top;\n",
       "    }\n",
       "\n",
       "    .dataframe thead th {\n",
       "        text-align: right;\n",
       "    }\n",
       "</style>\n",
       "<table border=\"1\" class=\"dataframe\">\n",
       "  <thead>\n",
       "    <tr style=\"text-align: right;\">\n",
       "      <th></th>\n",
       "      <th>ID</th>\n",
       "      <th>Bottle_name</th>\n",
       "      <th>Brand</th>\n",
       "      <th>Title</th>\n",
       "      <th>DESC</th>\n",
       "      <th>Label</th>\n",
       "      <th>Sentiment_Words</th>\n",
       "    </tr>\n",
       "  </thead>\n",
       "  <tbody>\n",
       "    <tr>\n",
       "      <th>0</th>\n",
       "      <td>1</td>\n",
       "      <td>The Yamazaki Single Malt Whisky - Distiller’s ...</td>\n",
       "      <td>Yamazaki</td>\n",
       "      <td>Overpriced dissapointment</td>\n",
       "      <td>dull taste  high price  no finish  over-hyped ...</td>\n",
       "      <td>1</td>\n",
       "      <td>overpriced dull disappointing</td>\n",
       "    </tr>\n",
       "    <tr>\n",
       "      <th>1</th>\n",
       "      <td>2</td>\n",
       "      <td>The Yamazaki Single Malt Whisky - Distiller’s ...</td>\n",
       "      <td>Yamazaki</td>\n",
       "      <td>Delicious</td>\n",
       "      <td>delicious   sugared red fruits and sweet with ...</td>\n",
       "      <td>2</td>\n",
       "      <td>delicious delicious</td>\n",
       "    </tr>\n",
       "    <tr>\n",
       "      <th>2</th>\n",
       "      <td>3</td>\n",
       "      <td>The Yamazaki Single Malt Whisky - Distiller’s ...</td>\n",
       "      <td>Yamazaki</td>\n",
       "      <td>Good for beginners. i know cos i am a beginner</td>\n",
       "      <td>i am not a whisky expert but i really love the...</td>\n",
       "      <td>2</td>\n",
       "      <td>good love like enjoyed expensive enjoyable</td>\n",
       "    </tr>\n",
       "    <tr>\n",
       "      <th>3</th>\n",
       "      <td>4</td>\n",
       "      <td>The Yamazaki Single Malt Whisky - Distiller’s ...</td>\n",
       "      <td>Yamazaki</td>\n",
       "      <td>Yamazaki Tutorial</td>\n",
       "      <td>this is a terrible yamazaki   very young, unsh...</td>\n",
       "      <td>1</td>\n",
       "      <td>terrible good excellent good overpriced great</td>\n",
       "    </tr>\n",
       "    <tr>\n",
       "      <th>4</th>\n",
       "      <td>5</td>\n",
       "      <td>The Yamazaki Single Malt Whisky - Distiller’s ...</td>\n",
       "      <td>Yamazaki</td>\n",
       "      <td>Very Nice</td>\n",
       "      <td>first time and i like it - fresh but not thin ...</td>\n",
       "      <td>2</td>\n",
       "      <td>nice like like</td>\n",
       "    </tr>\n",
       "  </tbody>\n",
       "</table>\n",
       "</div>"
      ],
      "text/plain": [
       "   ID                                        Bottle_name     Brand  \\\n",
       "0   1  The Yamazaki Single Malt Whisky - Distiller’s ...  Yamazaki   \n",
       "1   2  The Yamazaki Single Malt Whisky - Distiller’s ...  Yamazaki   \n",
       "2   3  The Yamazaki Single Malt Whisky - Distiller’s ...  Yamazaki   \n",
       "3   4  The Yamazaki Single Malt Whisky - Distiller’s ...  Yamazaki   \n",
       "4   5  The Yamazaki Single Malt Whisky - Distiller’s ...  Yamazaki   \n",
       "\n",
       "                                            Title  \\\n",
       "0                       Overpriced dissapointment   \n",
       "1                                       Delicious   \n",
       "2  Good for beginners. i know cos i am a beginner   \n",
       "3                               Yamazaki Tutorial   \n",
       "4                                       Very Nice   \n",
       "\n",
       "                                                DESC  Label  \\\n",
       "0  dull taste  high price  no finish  over-hyped ...      1   \n",
       "1  delicious   sugared red fruits and sweet with ...      2   \n",
       "2  i am not a whisky expert but i really love the...      2   \n",
       "3  this is a terrible yamazaki   very young, unsh...      1   \n",
       "4  first time and i like it - fresh but not thin ...      2   \n",
       "\n",
       "                                 Sentiment_Words  \n",
       "0                  overpriced dull disappointing  \n",
       "1                            delicious delicious  \n",
       "2     good love like enjoyed expensive enjoyable  \n",
       "3  terrible good excellent good overpriced great  \n",
       "4                                 nice like like  "
      ]
     },
     "execution_count": 17,
     "metadata": {},
     "output_type": "execute_result"
    }
   ],
   "source": [
    "df = pd.concat([df, df2], axis=1)\n",
    "df.head()"
   ]
  },
  {
   "cell_type": "markdown",
   "id": "d2161dc2",
   "metadata": {},
   "source": [
    "Split our data into two datasets (one labeled, one not labeled)"
   ]
  },
  {
   "cell_type": "code",
   "execution_count": 18,
   "id": "a1047a32",
   "metadata": {},
   "outputs": [
    {
     "data": {
      "text/html": [
       "<div>\n",
       "<style scoped>\n",
       "    .dataframe tbody tr th:only-of-type {\n",
       "        vertical-align: middle;\n",
       "    }\n",
       "\n",
       "    .dataframe tbody tr th {\n",
       "        vertical-align: top;\n",
       "    }\n",
       "\n",
       "    .dataframe thead th {\n",
       "        text-align: right;\n",
       "    }\n",
       "</style>\n",
       "<table border=\"1\" class=\"dataframe\">\n",
       "  <thead>\n",
       "    <tr style=\"text-align: right;\">\n",
       "      <th></th>\n",
       "      <th>ID</th>\n",
       "      <th>Bottle_name</th>\n",
       "      <th>Brand</th>\n",
       "      <th>Title</th>\n",
       "      <th>DESC</th>\n",
       "      <th>Label</th>\n",
       "      <th>Sentiment_Words</th>\n",
       "    </tr>\n",
       "  </thead>\n",
       "  <tbody>\n",
       "    <tr>\n",
       "      <th>0</th>\n",
       "      <td>1</td>\n",
       "      <td>The Yamazaki Single Malt Whisky - Distiller’s ...</td>\n",
       "      <td>Yamazaki</td>\n",
       "      <td>Overpriced dissapointment</td>\n",
       "      <td>dull taste  high price  no finish  over-hyped ...</td>\n",
       "      <td>1</td>\n",
       "      <td>overpriced dull disappointing</td>\n",
       "    </tr>\n",
       "    <tr>\n",
       "      <th>1</th>\n",
       "      <td>2</td>\n",
       "      <td>The Yamazaki Single Malt Whisky - Distiller’s ...</td>\n",
       "      <td>Yamazaki</td>\n",
       "      <td>Delicious</td>\n",
       "      <td>delicious   sugared red fruits and sweet with ...</td>\n",
       "      <td>2</td>\n",
       "      <td>delicious delicious</td>\n",
       "    </tr>\n",
       "    <tr>\n",
       "      <th>2</th>\n",
       "      <td>3</td>\n",
       "      <td>The Yamazaki Single Malt Whisky - Distiller’s ...</td>\n",
       "      <td>Yamazaki</td>\n",
       "      <td>Good for beginners. i know cos i am a beginner</td>\n",
       "      <td>i am not a whisky expert but i really love the...</td>\n",
       "      <td>2</td>\n",
       "      <td>good love like enjoyed expensive enjoyable</td>\n",
       "    </tr>\n",
       "    <tr>\n",
       "      <th>3</th>\n",
       "      <td>4</td>\n",
       "      <td>The Yamazaki Single Malt Whisky - Distiller’s ...</td>\n",
       "      <td>Yamazaki</td>\n",
       "      <td>Yamazaki Tutorial</td>\n",
       "      <td>this is a terrible yamazaki   very young, unsh...</td>\n",
       "      <td>1</td>\n",
       "      <td>terrible good excellent good overpriced great</td>\n",
       "    </tr>\n",
       "    <tr>\n",
       "      <th>4</th>\n",
       "      <td>5</td>\n",
       "      <td>The Yamazaki Single Malt Whisky - Distiller’s ...</td>\n",
       "      <td>Yamazaki</td>\n",
       "      <td>Very Nice</td>\n",
       "      <td>first time and i like it - fresh but not thin ...</td>\n",
       "      <td>2</td>\n",
       "      <td>nice like like</td>\n",
       "    </tr>\n",
       "    <tr>\n",
       "      <th>...</th>\n",
       "      <td>...</td>\n",
       "      <td>...</td>\n",
       "      <td>...</td>\n",
       "      <td>...</td>\n",
       "      <td>...</td>\n",
       "      <td>...</td>\n",
       "      <td>...</td>\n",
       "    </tr>\n",
       "    <tr>\n",
       "      <th>195</th>\n",
       "      <td>205</td>\n",
       "      <td>Yamazaki 18 Year Old</td>\n",
       "      <td>Yamazaki</td>\n",
       "      <td>David Yeh</td>\n",
       "      <td>one of the best single malt in the world   pro...</td>\n",
       "      <td>2</td>\n",
       "      <td>best</td>\n",
       "    </tr>\n",
       "    <tr>\n",
       "      <th>196</th>\n",
       "      <td>206</td>\n",
       "      <td>Yamazaki 18 Year Old</td>\n",
       "      <td>Yamazaki</td>\n",
       "      <td>Decent, but not remarkabke</td>\n",
       "      <td>good  but just that  not amazing  i ve had bet...</td>\n",
       "      <td>1</td>\n",
       "      <td>good amazing</td>\n",
       "    </tr>\n",
       "    <tr>\n",
       "      <th>197</th>\n",
       "      <td>207</td>\n",
       "      <td>Yamazaki 18 Year Old</td>\n",
       "      <td>Yamazaki</td>\n",
       "      <td>AMAZING !!!!</td>\n",
       "      <td>best whisky under $400 i ve had   i paid way t...</td>\n",
       "      <td>2</td>\n",
       "      <td>amazing best great</td>\n",
       "    </tr>\n",
       "    <tr>\n",
       "      <th>198</th>\n",
       "      <td>208</td>\n",
       "      <td>Yamazaki 18 Year Old</td>\n",
       "      <td>Yamazaki</td>\n",
       "      <td>Yamazaki 18</td>\n",
       "      <td>the best whisky in the world</td>\n",
       "      <td>2</td>\n",
       "      <td>best</td>\n",
       "    </tr>\n",
       "    <tr>\n",
       "      <th>199</th>\n",
       "      <td>209</td>\n",
       "      <td>Yamazaki 18 Year Old</td>\n",
       "      <td>Yamazaki</td>\n",
       "      <td>Tremendous</td>\n",
       "      <td>perfectly describes in the description   a mus...</td>\n",
       "      <td>2</td>\n",
       "      <td></td>\n",
       "    </tr>\n",
       "  </tbody>\n",
       "</table>\n",
       "<p>200 rows × 7 columns</p>\n",
       "</div>"
      ],
      "text/plain": [
       "      ID                                        Bottle_name     Brand  \\\n",
       "0      1  The Yamazaki Single Malt Whisky - Distiller’s ...  Yamazaki   \n",
       "1      2  The Yamazaki Single Malt Whisky - Distiller’s ...  Yamazaki   \n",
       "2      3  The Yamazaki Single Malt Whisky - Distiller’s ...  Yamazaki   \n",
       "3      4  The Yamazaki Single Malt Whisky - Distiller’s ...  Yamazaki   \n",
       "4      5  The Yamazaki Single Malt Whisky - Distiller’s ...  Yamazaki   \n",
       "..   ...                                                ...       ...   \n",
       "195  205                               Yamazaki 18 Year Old  Yamazaki   \n",
       "196  206                               Yamazaki 18 Year Old  Yamazaki   \n",
       "197  207                               Yamazaki 18 Year Old  Yamazaki   \n",
       "198  208                               Yamazaki 18 Year Old  Yamazaki   \n",
       "199  209                               Yamazaki 18 Year Old  Yamazaki   \n",
       "\n",
       "                                              Title  \\\n",
       "0                         Overpriced dissapointment   \n",
       "1                                         Delicious   \n",
       "2    Good for beginners. i know cos i am a beginner   \n",
       "3                                 Yamazaki Tutorial   \n",
       "4                                         Very Nice   \n",
       "..                                              ...   \n",
       "195                                       David Yeh   \n",
       "196                      Decent, but not remarkabke   \n",
       "197                                    AMAZING !!!!   \n",
       "198                                     Yamazaki 18   \n",
       "199                                      Tremendous   \n",
       "\n",
       "                                                  DESC  Label  \\\n",
       "0    dull taste  high price  no finish  over-hyped ...      1   \n",
       "1    delicious   sugared red fruits and sweet with ...      2   \n",
       "2    i am not a whisky expert but i really love the...      2   \n",
       "3    this is a terrible yamazaki   very young, unsh...      1   \n",
       "4    first time and i like it - fresh but not thin ...      2   \n",
       "..                                                 ...    ...   \n",
       "195  one of the best single malt in the world   pro...      2   \n",
       "196  good  but just that  not amazing  i ve had bet...      1   \n",
       "197  best whisky under $400 i ve had   i paid way t...      2   \n",
       "198                       the best whisky in the world      2   \n",
       "199  perfectly describes in the description   a mus...      2   \n",
       "\n",
       "                                   Sentiment_Words  \n",
       "0                    overpriced dull disappointing  \n",
       "1                              delicious delicious  \n",
       "2       good love like enjoyed expensive enjoyable  \n",
       "3    terrible good excellent good overpriced great  \n",
       "4                                   nice like like  \n",
       "..                                             ...  \n",
       "195                                           best  \n",
       "196                                   good amazing  \n",
       "197                             amazing best great  \n",
       "198                                           best  \n",
       "199                                                 \n",
       "\n",
       "[200 rows x 7 columns]"
      ]
     },
     "execution_count": 18,
     "metadata": {},
     "output_type": "execute_result"
    }
   ],
   "source": [
    "labeled_df = df.iloc[:last_labeled_index] \n",
    "unlabeled_df = df.iloc[last_labeled_index:]\n",
    "labeled_df"
   ]
  },
  {
   "cell_type": "code",
   "execution_count": 19,
   "id": "5b07f2ff",
   "metadata": {},
   "outputs": [],
   "source": [
    "labeled_df_words = labeled_df['Sentiment_Words']\n",
    "labeled_df_labels = labeled_df[\"Label\"]"
   ]
  },
  {
   "cell_type": "markdown",
   "id": "50d062e4",
   "metadata": {},
   "source": [
    "# Reformat our data"
   ]
  },
  {
   "cell_type": "markdown",
   "id": "091e3a8e",
   "metadata": {},
   "source": [
    "Because we're using the same model on 2 different sets of data (first 200 reviews VS following 900), we'll want to ensure both bags of words (bow) have the same encoding."
   ]
  },
  {
   "cell_type": "code",
   "execution_count": 20,
   "id": "c738203d",
   "metadata": {},
   "outputs": [
    {
     "data": {
      "text/plain": [
       "{'nice': 27,\n",
       " 'delicious': 6,\n",
       " 'great': 19,\n",
       " 'amazing': 0,\n",
       " 'amazingly': 1,\n",
       " 'yummy': 39,\n",
       " 'good': 18,\n",
       " 'wow': 38,\n",
       " 'enjoy': 12,\n",
       " 'enjoyed': 14,\n",
       " 'enjoyable': 13,\n",
       " 'excellent': 15,\n",
       " 'brilliant': 4,\n",
       " 'love': 24,\n",
       " 'like': 22,\n",
       " 'loved': 25,\n",
       " 'liked': 23,\n",
       " 'best': 3,\n",
       " 'pleased': 30,\n",
       " 'nasty': 26,\n",
       " 'gross': 20,\n",
       " 'ripoff': 32,\n",
       " 'rip': 31,\n",
       " 'off': 28,\n",
       " 'terrible': 34,\n",
       " 'disgusting': 10,\n",
       " 'disappointing': 8,\n",
       " 'disappointment': 9,\n",
       " 'disappointed': 7,\n",
       " 'worst': 37,\n",
       " 'dull': 11,\n",
       " 'overpriced': 29,\n",
       " 'unworthy': 35,\n",
       " 'hype': 21,\n",
       " 'expensive': 16,\n",
       " 'flavorful': 17,\n",
       " 'smooth': 33,\n",
       " 'cheap': 5,\n",
       " 'awful': 2,\n",
       " 'waste': 36}"
      ]
     },
     "execution_count": 20,
     "metadata": {},
     "output_type": "execute_result"
    }
   ],
   "source": [
    "from sklearn.feature_extraction.text import CountVectorizer\n",
    "encoded_vocabulary = CountVectorizer().fit(sentiment_word_arr)\n",
    "encoded_vocabulary.vocabulary_"
   ]
  },
  {
   "cell_type": "code",
   "execution_count": 21,
   "id": "3901cce4",
   "metadata": {},
   "outputs": [],
   "source": [
    "bow_for_labeled_reviews = encoded_vocabulary.transform(labeled_df_words)"
   ]
  },
  {
   "cell_type": "markdown",
   "id": "f8581d52",
   "metadata": {},
   "source": [
    "Next, let's calculate each words weighted importantce by using TFIDF"
   ]
  },
  {
   "cell_type": "code",
   "execution_count": 22,
   "id": "d2abc6f1",
   "metadata": {},
   "outputs": [],
   "source": [
    "from sklearn.feature_extraction.text import TfidfTransformer\n",
    "tfidf_transformer = TfidfTransformer().fit(bow_for_labeled_reviews)\n",
    "\n",
    "labeled_tfidf=tfidf_transformer.transform(bow_for_labeled_reviews)"
   ]
  },
  {
   "cell_type": "markdown",
   "id": "f8a00976",
   "metadata": {},
   "source": [
    "# Train and evaluate our model"
   ]
  },
  {
   "cell_type": "markdown",
   "id": "c292b439",
   "metadata": {},
   "source": [
    "Train our model on the labeled (first 200) reviews"
   ]
  },
  {
   "cell_type": "code",
   "execution_count": 23,
   "id": "0a313d9b",
   "metadata": {},
   "outputs": [],
   "source": [
    "from sklearn.naive_bayes import MultinomialNB\n",
    "model = MultinomialNB().fit(labeled_tfidf, labeled_df_labels)"
   ]
  },
  {
   "cell_type": "code",
   "execution_count": 24,
   "id": "f9dafc30",
   "metadata": {},
   "outputs": [
    {
     "data": {
      "text/plain": [
       "array([1, 2, 2, 2, 2, 1, 2, 2, 2, 2, 2, 1, 2, 2, 2, 2, 2, 2, 2, 2, 2, 2,\n",
       "       2, 2, 2, 2, 2, 2, 2, 1, 2, 2, 2, 2, 2, 2, 2, 2, 2, 2, 2, 2, 2, 2,\n",
       "       2, 2, 2, 2, 2, 2, 2, 2, 2, 2, 2, 2, 2, 2, 2, 2, 2, 2, 2, 2, 2, 2,\n",
       "       2, 2, 2, 2, 2, 2, 2, 2, 2, 2, 2, 2, 2, 2, 2, 2, 2, 2, 2, 2, 2, 2,\n",
       "       2, 2, 2, 2, 2, 2, 2, 2, 2, 2, 2, 2, 2, 2, 2, 2, 1, 2, 2, 2, 2, 2,\n",
       "       2, 2, 2, 2, 2, 2, 2, 2, 2, 2, 2, 2, 2, 2, 2, 2, 2, 2, 2, 2, 2, 2,\n",
       "       2, 2, 2, 2, 2, 2, 2, 2, 2, 2, 2, 2, 2, 1, 2, 2, 2, 2, 2, 2, 2, 2,\n",
       "       2, 2, 2, 2, 2, 2, 2, 2, 2, 2, 2, 2, 2, 2, 2, 2, 2, 2, 2, 2, 2, 1,\n",
       "       2, 2, 2, 2, 2, 2, 2, 2, 2, 2, 2, 2, 2, 2, 2, 2, 2, 2, 2, 2, 2, 2,\n",
       "       2, 2])"
      ]
     },
     "execution_count": 24,
     "metadata": {},
     "output_type": "execute_result"
    }
   ],
   "source": [
    "all_predictions = model.predict(labeled_tfidf)\n",
    "all_predictions"
   ]
  },
  {
   "cell_type": "code",
   "execution_count": 25,
   "id": "5e9d1528",
   "metadata": {},
   "outputs": [],
   "source": [
    "from sklearn.metrics import confusion_matrix\n",
    "from sklearn.metrics import accuracy_score\n",
    "\n",
    "cm = confusion_matrix(labeled_df_labels, all_predictions)"
   ]
  },
  {
   "cell_type": "code",
   "execution_count": 26,
   "id": "ec9acfbc",
   "metadata": {},
   "outputs": [
    {
     "data": {
      "image/png": "[encoded data removed]",
      "text/plain": [
       "<Figure size 432x288 with 2 Axes>"
      ]
     },
     "metadata": {
      "needs_background": "light"
     },
     "output_type": "display_data"
    }
   ],
   "source": [
    "import seaborn as sns\n",
    "from matplotlib import pyplot as plt\n",
    "\n",
    "\n",
    "ax = sns.heatmap(cm, annot=True, cmap='Blues', fmt='g')\n",
    "\n",
    "ax.set_title('Whisky Reviews');\n",
    "ax.set_xlabel('\\nPredicted Values')\n",
    "ax.set_ylabel('Actual Values\\n');\n",
    "\n",
    "ax.xaxis.set_ticklabels(['Negative','Positive'])\n",
    "ax.yaxis.set_ticklabels(['Negative','Positive'])\n",
    "\n",
    "plt.show()"
   ]
  },
  {
   "cell_type": "code",
   "execution_count": 27,
   "id": "8cd3a009",
   "metadata": {},
   "outputs": [
    {
     "name": "stdout",
     "output_type": "stream",
     "text": [
      "Accuracy of the algorithm is: 0.895\n"
     ]
    }
   ],
   "source": [
    "print('Accuracy of the algorithm is: {}'.format(accuracy_score(labeled_df_labels, all_predictions)))"
   ]
  },
  {
   "cell_type": "markdown",
   "id": "73c38adb",
   "metadata": {},
   "source": [
    "### Some things to consider!"
   ]
  },
  {
   "cell_type": "markdown",
   "id": "04597879",
   "metadata": {},
   "source": [
    "At first glance, 90% accuracy isn't bad. However, we're incorrectly classifying 70% of our negative reviews! So there is definitely room for improvement.\n",
    "\n",
    "We could:\n",
    "- Try labeling more reviews so our algorithm has more \"negative review\" data to train with.\n",
    "- Browse through our negative reviews to find more words with \"negative sentiment\" and add them to our sentiment_words list.\n",
    "- Test it against a different ML model (ex: neural network, decision tree, or logistic regression)\n",
    "\n",
    "Note: Another good idea would be to label 50 more reviews (that we haven't used for training our model) and evaluate how well our trained model performs on new data. But because we're making our sentiment classifier in order to spend LESS time labeling the 1100 reviews, we'll just proceed with our current data."
   ]
  },
  {
   "cell_type": "markdown",
   "id": "48526b19",
   "metadata": {},
   "source": [
    "# Run our model on the remaining 900 reviews"
   ]
  },
  {
   "cell_type": "code",
   "execution_count": 28,
   "id": "0aa6b992",
   "metadata": {},
   "outputs": [],
   "source": [
    "unlabeled_df_words = unlabeled_df['Sentiment_Words']\n",
    "unlabeled_df_labels = unlabeled_df[\"Label\"]"
   ]
  },
  {
   "cell_type": "code",
   "execution_count": 29,
   "id": "ea752cd6",
   "metadata": {},
   "outputs": [],
   "source": [
    "unlabeled_desc_bow = encoded_vocabulary.transform(unlabeled_df_words)\n",
    "tfidf_transformer = TfidfTransformer().fit(unlabeled_desc_bow)\n",
    "\n",
    "unlabeled_desc_tfidf=tfidf_transformer.transform(unlabeled_desc_bow)"
   ]
  },
  {
   "cell_type": "code",
   "execution_count": 30,
   "id": "f77ca908",
   "metadata": {},
   "outputs": [],
   "source": [
    "new_predictions = model.predict(unlabeled_desc_tfidf)"
   ]
  },
  {
   "cell_type": "code",
   "execution_count": 31,
   "id": "8e2afdef",
   "metadata": {},
   "outputs": [
    {
     "name": "stdout",
     "output_type": "stream",
     "text": [
      "positive reviews:905 negative reviews:5\n"
     ]
    }
   ],
   "source": [
    "positive_predictions = list(new_predictions).count(2)\n",
    "negative_predictions = list(new_predictions).count(1)\n",
    "print(\"positive reviews:{} negative reviews:{}\".format(positive_predictions, negative_predictions))"
   ]
  },
  {
   "cell_type": "code",
   "execution_count": 32,
   "id": "ba48f5ab",
   "metadata": {},
   "outputs": [],
   "source": [
    "predicted_labels = list(all_predictions) + list(new_predictions)"
   ]
  },
  {
   "cell_type": "code",
   "execution_count": 33,
   "id": "9055ea51",
   "metadata": {},
   "outputs": [
    {
     "data": {
      "text/html": [
       "<div>\n",
       "<style scoped>\n",
       "    .dataframe tbody tr th:only-of-type {\n",
       "        vertical-align: middle;\n",
       "    }\n",
       "\n",
       "    .dataframe tbody tr th {\n",
       "        vertical-align: top;\n",
       "    }\n",
       "\n",
       "    .dataframe thead th {\n",
       "        text-align: right;\n",
       "    }\n",
       "</style>\n",
       "<table border=\"1\" class=\"dataframe\">\n",
       "  <thead>\n",
       "    <tr style=\"text-align: right;\">\n",
       "      <th></th>\n",
       "      <th>ID</th>\n",
       "      <th>Bottle_name</th>\n",
       "      <th>Brand</th>\n",
       "      <th>Title</th>\n",
       "      <th>DESC</th>\n",
       "      <th>Label</th>\n",
       "      <th>Sentiment_Words</th>\n",
       "      <th>Predicted Label</th>\n",
       "    </tr>\n",
       "  </thead>\n",
       "  <tbody>\n",
       "    <tr>\n",
       "      <th>0</th>\n",
       "      <td>1</td>\n",
       "      <td>The Yamazaki Single Malt Whisky - Distiller’s ...</td>\n",
       "      <td>Yamazaki</td>\n",
       "      <td>Overpriced dissapointment</td>\n",
       "      <td>dull taste  high price  no finish  over-hyped ...</td>\n",
       "      <td>1</td>\n",
       "      <td>overpriced dull disappointing</td>\n",
       "      <td>1</td>\n",
       "    </tr>\n",
       "    <tr>\n",
       "      <th>1</th>\n",
       "      <td>2</td>\n",
       "      <td>The Yamazaki Single Malt Whisky - Distiller’s ...</td>\n",
       "      <td>Yamazaki</td>\n",
       "      <td>Delicious</td>\n",
       "      <td>delicious   sugared red fruits and sweet with ...</td>\n",
       "      <td>2</td>\n",
       "      <td>delicious delicious</td>\n",
       "      <td>2</td>\n",
       "    </tr>\n",
       "    <tr>\n",
       "      <th>2</th>\n",
       "      <td>3</td>\n",
       "      <td>The Yamazaki Single Malt Whisky - Distiller’s ...</td>\n",
       "      <td>Yamazaki</td>\n",
       "      <td>Good for beginners. i know cos i am a beginner</td>\n",
       "      <td>i am not a whisky expert but i really love the...</td>\n",
       "      <td>2</td>\n",
       "      <td>good love like enjoyed expensive enjoyable</td>\n",
       "      <td>2</td>\n",
       "    </tr>\n",
       "    <tr>\n",
       "      <th>3</th>\n",
       "      <td>4</td>\n",
       "      <td>The Yamazaki Single Malt Whisky - Distiller’s ...</td>\n",
       "      <td>Yamazaki</td>\n",
       "      <td>Yamazaki Tutorial</td>\n",
       "      <td>this is a terrible yamazaki   very young, unsh...</td>\n",
       "      <td>1</td>\n",
       "      <td>terrible good excellent good overpriced great</td>\n",
       "      <td>2</td>\n",
       "    </tr>\n",
       "    <tr>\n",
       "      <th>4</th>\n",
       "      <td>5</td>\n",
       "      <td>The Yamazaki Single Malt Whisky - Distiller’s ...</td>\n",
       "      <td>Yamazaki</td>\n",
       "      <td>Very Nice</td>\n",
       "      <td>first time and i like it - fresh but not thin ...</td>\n",
       "      <td>2</td>\n",
       "      <td>nice like like</td>\n",
       "      <td>2</td>\n",
       "    </tr>\n",
       "    <tr>\n",
       "      <th>...</th>\n",
       "      <td>...</td>\n",
       "      <td>...</td>\n",
       "      <td>...</td>\n",
       "      <td>...</td>\n",
       "      <td>...</td>\n",
       "      <td>...</td>\n",
       "      <td>...</td>\n",
       "      <td>...</td>\n",
       "    </tr>\n",
       "    <tr>\n",
       "      <th>1105</th>\n",
       "      <td>1126</td>\n",
       "      <td>Nikka 1995 Single Cask Coffey Grain</td>\n",
       "      <td>Nikka</td>\n",
       "      <td>Great whisky</td>\n",
       "      <td>really enjoyed the flavour of this whisky    g...</td>\n",
       "      <td>0</td>\n",
       "      <td>great enjoyed great</td>\n",
       "      <td>2</td>\n",
       "    </tr>\n",
       "    <tr>\n",
       "      <th>1106</th>\n",
       "      <td>1127</td>\n",
       "      <td>Nikka 1995 Single Cask Coffey Grain</td>\n",
       "      <td>Nikka</td>\n",
       "      <td>Phenomenal.</td>\n",
       "      <td>given the slightly racist tone to the guy at t...</td>\n",
       "      <td>0</td>\n",
       "      <td></td>\n",
       "      <td>2</td>\n",
       "    </tr>\n",
       "    <tr>\n",
       "      <th>1107</th>\n",
       "      <td>1128</td>\n",
       "      <td>Nikka 1995 Single Cask Coffey Grain</td>\n",
       "      <td>Nikka</td>\n",
       "      <td>Great.</td>\n",
       "      <td>the particular distillation process makes this...</td>\n",
       "      <td>0</td>\n",
       "      <td>great great</td>\n",
       "      <td>2</td>\n",
       "    </tr>\n",
       "    <tr>\n",
       "      <th>1108</th>\n",
       "      <td>1129</td>\n",
       "      <td>Nikka 1995 Single Cask Coffey Grain</td>\n",
       "      <td>Nikka</td>\n",
       "      <td>It s whisky, not wine</td>\n",
       "      <td>that s probably why the previous poster though...</td>\n",
       "      <td>0</td>\n",
       "      <td></td>\n",
       "      <td>2</td>\n",
       "    </tr>\n",
       "    <tr>\n",
       "      <th>1109</th>\n",
       "      <td>1130</td>\n",
       "      <td>Nikka 1995 Single Cask Coffey Grain</td>\n",
       "      <td>Nikka</td>\n",
       "      <td>Japs dont know anything about making wine</td>\n",
       "      <td>its like buying a bottle of grey goose thinkin...</td>\n",
       "      <td>0</td>\n",
       "      <td>like like</td>\n",
       "      <td>2</td>\n",
       "    </tr>\n",
       "  </tbody>\n",
       "</table>\n",
       "<p>1110 rows × 8 columns</p>\n",
       "</div>"
      ],
      "text/plain": [
       "        ID                                        Bottle_name     Brand  \\\n",
       "0        1  The Yamazaki Single Malt Whisky - Distiller’s ...  Yamazaki   \n",
       "1        2  The Yamazaki Single Malt Whisky - Distiller’s ...  Yamazaki   \n",
       "2        3  The Yamazaki Single Malt Whisky - Distiller’s ...  Yamazaki   \n",
       "3        4  The Yamazaki Single Malt Whisky - Distiller’s ...  Yamazaki   \n",
       "4        5  The Yamazaki Single Malt Whisky - Distiller’s ...  Yamazaki   \n",
       "...    ...                                                ...       ...   \n",
       "1105  1126                Nikka 1995 Single Cask Coffey Grain     Nikka   \n",
       "1106  1127                Nikka 1995 Single Cask Coffey Grain     Nikka   \n",
       "1107  1128                Nikka 1995 Single Cask Coffey Grain     Nikka   \n",
       "1108  1129                Nikka 1995 Single Cask Coffey Grain     Nikka   \n",
       "1109  1130                Nikka 1995 Single Cask Coffey Grain     Nikka   \n",
       "\n",
       "                                               Title  \\\n",
       "0                          Overpriced dissapointment   \n",
       "1                                          Delicious   \n",
       "2     Good for beginners. i know cos i am a beginner   \n",
       "3                                  Yamazaki Tutorial   \n",
       "4                                          Very Nice   \n",
       "...                                              ...   \n",
       "1105                                    Great whisky   \n",
       "1106                                    Phenomenal.    \n",
       "1107                                          Great.   \n",
       "1108                           It s whisky, not wine   \n",
       "1109       Japs dont know anything about making wine   \n",
       "\n",
       "                                                   DESC  Label  \\\n",
       "0     dull taste  high price  no finish  over-hyped ...      1   \n",
       "1     delicious   sugared red fruits and sweet with ...      2   \n",
       "2     i am not a whisky expert but i really love the...      2   \n",
       "3     this is a terrible yamazaki   very young, unsh...      1   \n",
       "4     first time and i like it - fresh but not thin ...      2   \n",
       "...                                                 ...    ...   \n",
       "1105  really enjoyed the flavour of this whisky    g...      0   \n",
       "1106  given the slightly racist tone to the guy at t...      0   \n",
       "1107  the particular distillation process makes this...      0   \n",
       "1108  that s probably why the previous poster though...      0   \n",
       "1109  its like buying a bottle of grey goose thinkin...      0   \n",
       "\n",
       "                                    Sentiment_Words  Predicted Label  \n",
       "0                     overpriced dull disappointing                1  \n",
       "1                               delicious delicious                2  \n",
       "2        good love like enjoyed expensive enjoyable                2  \n",
       "3     terrible good excellent good overpriced great                2  \n",
       "4                                    nice like like                2  \n",
       "...                                             ...              ...  \n",
       "1105                            great enjoyed great                2  \n",
       "1106                                                               2  \n",
       "1107                                    great great                2  \n",
       "1108                                                               2  \n",
       "1109                                      like like                2  \n",
       "\n",
       "[1110 rows x 8 columns]"
      ]
     },
     "execution_count": 33,
     "metadata": {},
     "output_type": "execute_result"
    }
   ],
   "source": [
    "df['Predicted Label'] = pd.Series(predicted_labels)\n",
    "df"
   ]
  },
  {
   "cell_type": "code",
   "execution_count": 34,
   "id": "8facc415",
   "metadata": {},
   "outputs": [],
   "source": [
    "df.to_csv(\"./archive/Japanese_Whisky_Predictions.csv\")"
   ]
  },
  {
   "cell_type": "markdown",
   "id": "e0077d01",
   "metadata": {},
   "source": [
    "Let's check out our data in SQL!"
   ]
  },
  {
   "attachments": {
    "SQL_Whisky_Count.png": {
     "image/png": "[encoded data removed]"
    }
   },
   "cell_type": "markdown",
   "id": "69dc15c2",
   "metadata": {},
   "source": [
    "![SQL_Whisky_Count.png](attachment:SQL_Whisky_Count.png)"
   ]
  },
  {
   "cell_type": "markdown",
   "id": "2bb51ff0",
   "metadata": {},
   "source": [
    "Although Hakushu has no negative reviews, I'd argue that it's due to limited data and that Nikka is most popular!"
   ]
  }
 ],
 "metadata": {
  "kernelspec": {
   "display_name": "Python 3 (ipykernel)",
   "language": "python",
   "name": "python3"
  },
  "language_info": {
   "codemirror_mode": {
    "name": "ipython",
    "version": 3
   },
   "file_extension": ".py",
   "mimetype": "text/x-python",
   "name": "python",
   "nbconvert_exporter": "python",
   "pygments_lexer": "ipython3",
   "version": "3.8.4rc1"
  }
 },
 "nbformat": 4,
 "nbformat_minor": 5
}
